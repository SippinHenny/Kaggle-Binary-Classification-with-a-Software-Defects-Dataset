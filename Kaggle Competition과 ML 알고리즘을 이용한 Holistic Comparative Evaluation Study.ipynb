{
 "cells": [
  {
   "cell_type": "markdown",
   "id": "5dc5066f",
   "metadata": {},
   "source": [
    "# Kaggle Competition과 ML 알고리즘을 이용한 Holistic Comparative Evaluation Study\n",
    "## 황석현\n",
    "\n",
    "### 활용한 데이터: Kaggle Competition: Walter Reade, Ashley Chow. (2023). Binary Classification with a Software Defects Dataset (train.csv). https://kaggle.com/competitions/playground-series-s3e23\n",
    "### 발굴, 분석하고자 하는 목적: 코드에 관한 다양한 feature을 활용하여, 이 코드가 결함이 있는지 없는지 판단할 것이다.\n",
    "### 링크에는 train data와 test data가 존재한다.\n",
    "### 그러나 test  data에는 defects(정답)이 존재하지 않기 때문에, Kaggle에 제출하지 않는 이상, 성능을 평가하기 어렵다.\n",
    "### train data가 충분히 큰 이유로, train data를 다시 train과 test data로 나누어서 진행하겠다."
   ]
  },
  {
   "cell_type": "code",
   "execution_count": 1,
   "id": "4b98727f",
   "metadata": {},
   "outputs": [],
   "source": [
    "from __future__ import print_function\n",
    "from sklearn.preprocessing import OneHotEncoder, LabelEncoder,OrdinalEncoder,StandardScaler,MinMaxScaler,PowerTransformer,FunctionTransformer\n",
    "from sklearn.model_selection import train_test_split\n",
    "from sklearn.neighbors import KNeighborsClassifier\n",
    "from sklearn.linear_model import LinearRegression, Lasso , LassoCV, SGDRegressor\n",
    "from sklearn.metrics import mean_squared_error\n",
    "from sklearn.preprocessing import StandardScaler, MinMaxScaler, MaxAbsScaler ,RobustScaler\n",
    "from sklearn.tree import DecisionTreeClassifier\n",
    "import time\n",
    "\n",
    "\n",
    "# Accuracy Metrics\n",
    "from sklearn.metrics import classification_report\n",
    "\n",
    "import pandas as pd\n",
    "import numpy as np\n",
    "from matplotlib import pyplot as plt\n",
    "import os\n",
    "\n",
    "\n",
    "# KNN \n",
    "from sklearn.neighbors import KNeighborsClassifier\n",
    "\n",
    "# NB\n",
    "from sklearn.naive_bayes import GaussianNB, BernoulliNB, MultinomialNB\n",
    "from sklearn.model_selection import cross_val_score\n",
    "from sklearn.model_selection import GridSearchCV\n",
    "\n",
    "# SVM\n",
    "from sklearn.svm import LinearSVC\n",
    "from sklearn.svm import SVC\n",
    "from sklearn.kernel_approximation import Nystroem\n",
    "from sklearn.svm import SVC\n",
    "from sklearn.linear_model import SGDClassifier\n",
    "\n",
    "import numpy as np # linear algebra\n",
    "import pandas as pd # data processing, CSV file I/O (e.g. pd.read_csv)\n",
    "import os\n",
    "\n",
    "import matplotlib.pyplot as plt\n",
    "import seaborn as sns\n",
    "\n",
    "%matplotlib inline"
   ]
  },
  {
   "cell_type": "markdown",
   "id": "9c164e70",
   "metadata": {},
   "source": [
    "### Data 불러오기"
   ]
  },
  {
   "cell_type": "code",
   "execution_count": 2,
   "id": "8fdf0d76",
   "metadata": {},
   "outputs": [],
   "source": [
    "data = pd.read_csv(\"train.csv\")\n",
    "data = data.drop(columns =[\"id\"],axis=1)\n",
    "data['defects'] = data['defects'].map({True: 1, False: 0})"
   ]
  },
  {
   "cell_type": "code",
   "execution_count": 3,
   "id": "5286825f",
   "metadata": {},
   "outputs": [
    {
     "name": "stdout",
     "output_type": "stream",
     "text": [
      "<class 'pandas.core.frame.DataFrame'>\n",
      "RangeIndex: 101763 entries, 0 to 101762\n",
      "Data columns (total 22 columns):\n",
      " #   Column             Non-Null Count   Dtype  \n",
      "---  ------             --------------   -----  \n",
      " 0   loc                101763 non-null  float64\n",
      " 1   v(g)               101763 non-null  float64\n",
      " 2   ev(g)              101763 non-null  float64\n",
      " 3   iv(g)              101763 non-null  float64\n",
      " 4   n                  101763 non-null  float64\n",
      " 5   v                  101763 non-null  float64\n",
      " 6   l                  101763 non-null  float64\n",
      " 7   d                  101763 non-null  float64\n",
      " 8   i                  101763 non-null  float64\n",
      " 9   e                  101763 non-null  float64\n",
      " 10  b                  101763 non-null  float64\n",
      " 11  t                  101763 non-null  float64\n",
      " 12  lOCode             101763 non-null  int64  \n",
      " 13  lOComment          101763 non-null  int64  \n",
      " 14  lOBlank            101763 non-null  int64  \n",
      " 15  locCodeAndComment  101763 non-null  int64  \n",
      " 16  uniq_Op            101763 non-null  float64\n",
      " 17  uniq_Opnd          101763 non-null  float64\n",
      " 18  total_Op           101763 non-null  float64\n",
      " 19  total_Opnd         101763 non-null  float64\n",
      " 20  branchCount        101763 non-null  float64\n",
      " 21  defects            101763 non-null  int64  \n",
      "dtypes: float64(17), int64(5)\n",
      "memory usage: 17.1 MB\n"
     ]
    }
   ],
   "source": [
    "data.info()"
   ]
  },
  {
   "cell_type": "code",
   "execution_count": 4,
   "id": "0be57eef",
   "metadata": {},
   "outputs": [
    {
     "data": {
      "text/html": [
       "<div>\n",
       "<style scoped>\n",
       "    .dataframe tbody tr th:only-of-type {\n",
       "        vertical-align: middle;\n",
       "    }\n",
       "\n",
       "    .dataframe tbody tr th {\n",
       "        vertical-align: top;\n",
       "    }\n",
       "\n",
       "    .dataframe thead th {\n",
       "        text-align: right;\n",
       "    }\n",
       "</style>\n",
       "<table border=\"1\" class=\"dataframe\">\n",
       "  <thead>\n",
       "    <tr style=\"text-align: right;\">\n",
       "      <th></th>\n",
       "      <th>loc</th>\n",
       "      <th>v(g)</th>\n",
       "      <th>ev(g)</th>\n",
       "      <th>iv(g)</th>\n",
       "      <th>n</th>\n",
       "      <th>v</th>\n",
       "      <th>l</th>\n",
       "      <th>d</th>\n",
       "      <th>i</th>\n",
       "      <th>e</th>\n",
       "      <th>...</th>\n",
       "      <th>lOCode</th>\n",
       "      <th>lOComment</th>\n",
       "      <th>lOBlank</th>\n",
       "      <th>locCodeAndComment</th>\n",
       "      <th>uniq_Op</th>\n",
       "      <th>uniq_Opnd</th>\n",
       "      <th>total_Op</th>\n",
       "      <th>total_Opnd</th>\n",
       "      <th>branchCount</th>\n",
       "      <th>defects</th>\n",
       "    </tr>\n",
       "  </thead>\n",
       "  <tbody>\n",
       "    <tr>\n",
       "      <th>0</th>\n",
       "      <td>22.0</td>\n",
       "      <td>3.0</td>\n",
       "      <td>1.0</td>\n",
       "      <td>2.0</td>\n",
       "      <td>60.0</td>\n",
       "      <td>278.63</td>\n",
       "      <td>0.06</td>\n",
       "      <td>19.56</td>\n",
       "      <td>14.25</td>\n",
       "      <td>5448.79</td>\n",
       "      <td>...</td>\n",
       "      <td>17</td>\n",
       "      <td>1</td>\n",
       "      <td>1</td>\n",
       "      <td>0</td>\n",
       "      <td>16.0</td>\n",
       "      <td>9.0</td>\n",
       "      <td>38.0</td>\n",
       "      <td>22.0</td>\n",
       "      <td>5.0</td>\n",
       "      <td>0</td>\n",
       "    </tr>\n",
       "    <tr>\n",
       "      <th>1</th>\n",
       "      <td>14.0</td>\n",
       "      <td>2.0</td>\n",
       "      <td>1.0</td>\n",
       "      <td>2.0</td>\n",
       "      <td>32.0</td>\n",
       "      <td>151.27</td>\n",
       "      <td>0.14</td>\n",
       "      <td>7.00</td>\n",
       "      <td>21.11</td>\n",
       "      <td>936.71</td>\n",
       "      <td>...</td>\n",
       "      <td>11</td>\n",
       "      <td>0</td>\n",
       "      <td>1</td>\n",
       "      <td>0</td>\n",
       "      <td>11.0</td>\n",
       "      <td>11.0</td>\n",
       "      <td>18.0</td>\n",
       "      <td>14.0</td>\n",
       "      <td>3.0</td>\n",
       "      <td>0</td>\n",
       "    </tr>\n",
       "    <tr>\n",
       "      <th>2</th>\n",
       "      <td>11.0</td>\n",
       "      <td>2.0</td>\n",
       "      <td>1.0</td>\n",
       "      <td>2.0</td>\n",
       "      <td>45.0</td>\n",
       "      <td>197.65</td>\n",
       "      <td>0.11</td>\n",
       "      <td>8.05</td>\n",
       "      <td>22.76</td>\n",
       "      <td>1754.01</td>\n",
       "      <td>...</td>\n",
       "      <td>8</td>\n",
       "      <td>0</td>\n",
       "      <td>1</td>\n",
       "      <td>0</td>\n",
       "      <td>12.0</td>\n",
       "      <td>11.0</td>\n",
       "      <td>28.0</td>\n",
       "      <td>17.0</td>\n",
       "      <td>3.0</td>\n",
       "      <td>0</td>\n",
       "    </tr>\n",
       "    <tr>\n",
       "      <th>3</th>\n",
       "      <td>8.0</td>\n",
       "      <td>1.0</td>\n",
       "      <td>1.0</td>\n",
       "      <td>1.0</td>\n",
       "      <td>23.0</td>\n",
       "      <td>94.01</td>\n",
       "      <td>0.19</td>\n",
       "      <td>5.25</td>\n",
       "      <td>17.86</td>\n",
       "      <td>473.66</td>\n",
       "      <td>...</td>\n",
       "      <td>4</td>\n",
       "      <td>0</td>\n",
       "      <td>2</td>\n",
       "      <td>0</td>\n",
       "      <td>8.0</td>\n",
       "      <td>6.0</td>\n",
       "      <td>16.0</td>\n",
       "      <td>7.0</td>\n",
       "      <td>1.0</td>\n",
       "      <td>1</td>\n",
       "    </tr>\n",
       "    <tr>\n",
       "      <th>4</th>\n",
       "      <td>11.0</td>\n",
       "      <td>2.0</td>\n",
       "      <td>1.0</td>\n",
       "      <td>2.0</td>\n",
       "      <td>17.0</td>\n",
       "      <td>60.94</td>\n",
       "      <td>0.18</td>\n",
       "      <td>5.63</td>\n",
       "      <td>12.44</td>\n",
       "      <td>365.67</td>\n",
       "      <td>...</td>\n",
       "      <td>7</td>\n",
       "      <td>0</td>\n",
       "      <td>2</td>\n",
       "      <td>0</td>\n",
       "      <td>7.0</td>\n",
       "      <td>6.0</td>\n",
       "      <td>10.0</td>\n",
       "      <td>10.0</td>\n",
       "      <td>3.0</td>\n",
       "      <td>0</td>\n",
       "    </tr>\n",
       "  </tbody>\n",
       "</table>\n",
       "<p>5 rows × 22 columns</p>\n",
       "</div>"
      ],
      "text/plain": [
       "    loc  v(g)  ev(g)  iv(g)     n       v     l      d      i        e  ...  \\\n",
       "0  22.0   3.0    1.0    2.0  60.0  278.63  0.06  19.56  14.25  5448.79  ...   \n",
       "1  14.0   2.0    1.0    2.0  32.0  151.27  0.14   7.00  21.11   936.71  ...   \n",
       "2  11.0   2.0    1.0    2.0  45.0  197.65  0.11   8.05  22.76  1754.01  ...   \n",
       "3   8.0   1.0    1.0    1.0  23.0   94.01  0.19   5.25  17.86   473.66  ...   \n",
       "4  11.0   2.0    1.0    2.0  17.0   60.94  0.18   5.63  12.44   365.67  ...   \n",
       "\n",
       "   lOCode  lOComment  lOBlank  locCodeAndComment  uniq_Op  uniq_Opnd  \\\n",
       "0      17          1        1                  0     16.0        9.0   \n",
       "1      11          0        1                  0     11.0       11.0   \n",
       "2       8          0        1                  0     12.0       11.0   \n",
       "3       4          0        2                  0      8.0        6.0   \n",
       "4       7          0        2                  0      7.0        6.0   \n",
       "\n",
       "   total_Op  total_Opnd  branchCount  defects  \n",
       "0      38.0        22.0          5.0        0  \n",
       "1      18.0        14.0          3.0        0  \n",
       "2      28.0        17.0          3.0        0  \n",
       "3      16.0         7.0          1.0        1  \n",
       "4      10.0        10.0          3.0        0  \n",
       "\n",
       "[5 rows x 22 columns]"
      ]
     },
     "execution_count": 4,
     "metadata": {},
     "output_type": "execute_result"
    }
   ],
   "source": [
    "data.head()"
   ]
  },
  {
   "cell_type": "code",
   "execution_count": 5,
   "id": "c4450df5",
   "metadata": {},
   "outputs": [],
   "source": [
    "string_features = data.select_dtypes(include=['O']).columns\n",
    "data[string_features] = data[string_features].replace('?',np.nan)\n",
    "\n",
    "for feature in string_features:\n",
    "    data[feature] = data[feature].astype(float)"
   ]
  },
  {
   "cell_type": "code",
   "execution_count": 6,
   "id": "8ffe38ce",
   "metadata": {},
   "outputs": [
    {
     "data": {
      "text/plain": [
       "loc                  0\n",
       "v(g)                 0\n",
       "ev(g)                0\n",
       "iv(g)                0\n",
       "n                    0\n",
       "v                    0\n",
       "l                    0\n",
       "d                    0\n",
       "i                    0\n",
       "e                    0\n",
       "b                    0\n",
       "t                    0\n",
       "lOCode               0\n",
       "lOComment            0\n",
       "lOBlank              0\n",
       "locCodeAndComment    0\n",
       "uniq_Op              0\n",
       "uniq_Opnd            0\n",
       "total_Op             0\n",
       "total_Opnd           0\n",
       "branchCount          0\n",
       "defects              0\n",
       "dtype: int64"
      ]
     },
     "execution_count": 6,
     "metadata": {},
     "output_type": "execute_result"
    }
   ],
   "source": [
    "##결측치가 존재하는지 확인\n",
    "data.isnull().sum()"
   ]
  },
  {
   "cell_type": "code",
   "execution_count": 7,
   "id": "1dc4b1f8",
   "metadata": {},
   "outputs": [
    {
     "data": {
      "text/html": [
       "<div>\n",
       "<style scoped>\n",
       "    .dataframe tbody tr th:only-of-type {\n",
       "        vertical-align: middle;\n",
       "    }\n",
       "\n",
       "    .dataframe tbody tr th {\n",
       "        vertical-align: top;\n",
       "    }\n",
       "\n",
       "    .dataframe thead th {\n",
       "        text-align: right;\n",
       "    }\n",
       "</style>\n",
       "<table border=\"1\" class=\"dataframe\">\n",
       "  <thead>\n",
       "    <tr style=\"text-align: right;\">\n",
       "      <th></th>\n",
       "      <th>skew</th>\n",
       "      <th>too_skewed</th>\n",
       "    </tr>\n",
       "  </thead>\n",
       "  <tbody>\n",
       "    <tr>\n",
       "      <th>loc</th>\n",
       "      <td>11.818912</td>\n",
       "      <td>True</td>\n",
       "    </tr>\n",
       "    <tr>\n",
       "      <th>v(g)</th>\n",
       "      <td>14.258631</td>\n",
       "      <td>True</td>\n",
       "    </tr>\n",
       "    <tr>\n",
       "      <th>ev(g)</th>\n",
       "      <td>6.513498</td>\n",
       "      <td>True</td>\n",
       "    </tr>\n",
       "    <tr>\n",
       "      <th>iv(g)</th>\n",
       "      <td>28.209964</td>\n",
       "      <td>True</td>\n",
       "    </tr>\n",
       "    <tr>\n",
       "      <th>n</th>\n",
       "      <td>9.908514</td>\n",
       "      <td>True</td>\n",
       "    </tr>\n",
       "    <tr>\n",
       "      <th>v</th>\n",
       "      <td>15.959869</td>\n",
       "      <td>True</td>\n",
       "    </tr>\n",
       "    <tr>\n",
       "      <th>l</th>\n",
       "      <td>1.903337</td>\n",
       "      <td>True</td>\n",
       "    </tr>\n",
       "    <tr>\n",
       "      <th>d</th>\n",
       "      <td>5.618081</td>\n",
       "      <td>True</td>\n",
       "    </tr>\n",
       "    <tr>\n",
       "      <th>i</th>\n",
       "      <td>4.859743</td>\n",
       "      <td>True</td>\n",
       "    </tr>\n",
       "    <tr>\n",
       "      <th>e</th>\n",
       "      <td>47.676446</td>\n",
       "      <td>True</td>\n",
       "    </tr>\n",
       "    <tr>\n",
       "      <th>b</th>\n",
       "      <td>16.016099</td>\n",
       "      <td>True</td>\n",
       "    </tr>\n",
       "    <tr>\n",
       "      <th>t</th>\n",
       "      <td>46.363403</td>\n",
       "      <td>True</td>\n",
       "    </tr>\n",
       "    <tr>\n",
       "      <th>lOCode</th>\n",
       "      <td>15.961574</td>\n",
       "      <td>True</td>\n",
       "    </tr>\n",
       "    <tr>\n",
       "      <th>lOComment</th>\n",
       "      <td>12.086854</td>\n",
       "      <td>True</td>\n",
       "    </tr>\n",
       "    <tr>\n",
       "      <th>lOBlank</th>\n",
       "      <td>8.717378</td>\n",
       "      <td>True</td>\n",
       "    </tr>\n",
       "    <tr>\n",
       "      <th>locCodeAndComment</th>\n",
       "      <td>11.108580</td>\n",
       "      <td>True</td>\n",
       "    </tr>\n",
       "    <tr>\n",
       "      <th>uniq_Op</th>\n",
       "      <td>5.638689</td>\n",
       "      <td>True</td>\n",
       "    </tr>\n",
       "    <tr>\n",
       "      <th>uniq_Opnd</th>\n",
       "      <td>13.504999</td>\n",
       "      <td>True</td>\n",
       "    </tr>\n",
       "    <tr>\n",
       "      <th>total_Op</th>\n",
       "      <td>11.149996</td>\n",
       "      <td>True</td>\n",
       "    </tr>\n",
       "    <tr>\n",
       "      <th>total_Opnd</th>\n",
       "      <td>10.496121</td>\n",
       "      <td>True</td>\n",
       "    </tr>\n",
       "    <tr>\n",
       "      <th>branchCount</th>\n",
       "      <td>8.568527</td>\n",
       "      <td>True</td>\n",
       "    </tr>\n",
       "    <tr>\n",
       "      <th>defects</th>\n",
       "      <td>1.305878</td>\n",
       "      <td>True</td>\n",
       "    </tr>\n",
       "  </tbody>\n",
       "</table>\n",
       "</div>"
      ],
      "text/plain": [
       "                        skew  too_skewed\n",
       "loc                11.818912        True\n",
       "v(g)               14.258631        True\n",
       "ev(g)               6.513498        True\n",
       "iv(g)              28.209964        True\n",
       "n                   9.908514        True\n",
       "v                  15.959869        True\n",
       "l                   1.903337        True\n",
       "d                   5.618081        True\n",
       "i                   4.859743        True\n",
       "e                  47.676446        True\n",
       "b                  16.016099        True\n",
       "t                  46.363403        True\n",
       "lOCode             15.961574        True\n",
       "lOComment          12.086854        True\n",
       "lOBlank             8.717378        True\n",
       "locCodeAndComment  11.108580        True\n",
       "uniq_Op             5.638689        True\n",
       "uniq_Opnd          13.504999        True\n",
       "total_Op           11.149996        True\n",
       "total_Opnd         10.496121        True\n",
       "branchCount         8.568527        True\n",
       "defects             1.305878        True"
      ]
     },
     "execution_count": 7,
     "metadata": {},
     "output_type": "execute_result"
    }
   ],
   "source": [
    "skew = pd.DataFrame(data.skew())\n",
    "skew.columns=['skew']\n",
    "skew['too_skewed'] = skew['skew'] > .75\n",
    "skew"
   ]
  },
  {
   "cell_type": "code",
   "execution_count": 8,
   "id": "311c1058",
   "metadata": {},
   "outputs": [],
   "source": [
    "binary_features = [col for col in data.columns if data[col].nunique() <= 2 and data[col].dtype != 'object']\n",
    "continuous_features = [col for col in data.columns if data[col].dtype != 'object' and col not in binary_features]"
   ]
  },
  {
   "cell_type": "code",
   "execution_count": 9,
   "id": "3abfd194",
   "metadata": {},
   "outputs": [],
   "source": [
    "data_copy=data.copy()"
   ]
  },
  {
   "cell_type": "code",
   "execution_count": 10,
   "id": "4fe5e262",
   "metadata": {},
   "outputs": [
    {
     "data": {
      "text/html": [
       "<div>\n",
       "<style scoped>\n",
       "    .dataframe tbody tr th:only-of-type {\n",
       "        vertical-align: middle;\n",
       "    }\n",
       "\n",
       "    .dataframe tbody tr th {\n",
       "        vertical-align: top;\n",
       "    }\n",
       "\n",
       "    .dataframe thead th {\n",
       "        text-align: right;\n",
       "    }\n",
       "</style>\n",
       "<table border=\"1\" class=\"dataframe\">\n",
       "  <thead>\n",
       "    <tr style=\"text-align: right;\">\n",
       "      <th></th>\n",
       "      <th>loc</th>\n",
       "      <th>v(g)</th>\n",
       "      <th>ev(g)</th>\n",
       "      <th>iv(g)</th>\n",
       "      <th>n</th>\n",
       "      <th>v</th>\n",
       "      <th>l</th>\n",
       "      <th>d</th>\n",
       "      <th>i</th>\n",
       "      <th>e</th>\n",
       "      <th>...</th>\n",
       "      <th>lOCode</th>\n",
       "      <th>lOComment</th>\n",
       "      <th>lOBlank</th>\n",
       "      <th>locCodeAndComment</th>\n",
       "      <th>uniq_Op</th>\n",
       "      <th>uniq_Opnd</th>\n",
       "      <th>total_Op</th>\n",
       "      <th>total_Opnd</th>\n",
       "      <th>branchCount</th>\n",
       "      <th>defects</th>\n",
       "    </tr>\n",
       "  </thead>\n",
       "  <tbody>\n",
       "    <tr>\n",
       "      <th>0</th>\n",
       "      <td>3.135494</td>\n",
       "      <td>1.386294</td>\n",
       "      <td>0.693147</td>\n",
       "      <td>1.098612</td>\n",
       "      <td>4.110874</td>\n",
       "      <td>5.633467</td>\n",
       "      <td>0.058269</td>\n",
       "      <td>3.023347</td>\n",
       "      <td>2.724580</td>\n",
       "      <td>8.603332</td>\n",
       "      <td>...</td>\n",
       "      <td>2.890372</td>\n",
       "      <td>0.693147</td>\n",
       "      <td>0.693147</td>\n",
       "      <td>0.0</td>\n",
       "      <td>2.833213</td>\n",
       "      <td>2.302585</td>\n",
       "      <td>3.663562</td>\n",
       "      <td>3.135494</td>\n",
       "      <td>1.791759</td>\n",
       "      <td>0</td>\n",
       "    </tr>\n",
       "    <tr>\n",
       "      <th>1</th>\n",
       "      <td>2.708050</td>\n",
       "      <td>1.098612</td>\n",
       "      <td>0.693147</td>\n",
       "      <td>1.098612</td>\n",
       "      <td>3.496508</td>\n",
       "      <td>5.025655</td>\n",
       "      <td>0.131028</td>\n",
       "      <td>2.079442</td>\n",
       "      <td>3.096030</td>\n",
       "      <td>6.843441</td>\n",
       "      <td>...</td>\n",
       "      <td>2.484907</td>\n",
       "      <td>0.000000</td>\n",
       "      <td>0.693147</td>\n",
       "      <td>0.0</td>\n",
       "      <td>2.484907</td>\n",
       "      <td>2.484907</td>\n",
       "      <td>2.944439</td>\n",
       "      <td>2.708050</td>\n",
       "      <td>1.386294</td>\n",
       "      <td>0</td>\n",
       "    </tr>\n",
       "    <tr>\n",
       "      <th>2</th>\n",
       "      <td>2.484907</td>\n",
       "      <td>1.098612</td>\n",
       "      <td>0.693147</td>\n",
       "      <td>1.098612</td>\n",
       "      <td>3.828641</td>\n",
       "      <td>5.291544</td>\n",
       "      <td>0.104360</td>\n",
       "      <td>2.202765</td>\n",
       "      <td>3.168003</td>\n",
       "      <td>7.470230</td>\n",
       "      <td>...</td>\n",
       "      <td>2.197225</td>\n",
       "      <td>0.000000</td>\n",
       "      <td>0.693147</td>\n",
       "      <td>0.0</td>\n",
       "      <td>2.564949</td>\n",
       "      <td>2.484907</td>\n",
       "      <td>3.367296</td>\n",
       "      <td>2.890372</td>\n",
       "      <td>1.386294</td>\n",
       "      <td>0</td>\n",
       "    </tr>\n",
       "    <tr>\n",
       "      <th>3</th>\n",
       "      <td>2.197225</td>\n",
       "      <td>0.693147</td>\n",
       "      <td>0.693147</td>\n",
       "      <td>0.693147</td>\n",
       "      <td>3.178054</td>\n",
       "      <td>4.553982</td>\n",
       "      <td>0.173953</td>\n",
       "      <td>1.832581</td>\n",
       "      <td>2.937043</td>\n",
       "      <td>6.162599</td>\n",
       "      <td>...</td>\n",
       "      <td>1.609438</td>\n",
       "      <td>0.000000</td>\n",
       "      <td>1.098612</td>\n",
       "      <td>0.0</td>\n",
       "      <td>2.197225</td>\n",
       "      <td>1.945910</td>\n",
       "      <td>2.833213</td>\n",
       "      <td>2.079442</td>\n",
       "      <td>0.693147</td>\n",
       "      <td>1</td>\n",
       "    </tr>\n",
       "    <tr>\n",
       "      <th>4</th>\n",
       "      <td>2.484907</td>\n",
       "      <td>1.098612</td>\n",
       "      <td>0.693147</td>\n",
       "      <td>1.098612</td>\n",
       "      <td>2.890372</td>\n",
       "      <td>4.126166</td>\n",
       "      <td>0.165514</td>\n",
       "      <td>1.891605</td>\n",
       "      <td>2.598235</td>\n",
       "      <td>5.904462</td>\n",
       "      <td>...</td>\n",
       "      <td>2.079442</td>\n",
       "      <td>0.000000</td>\n",
       "      <td>1.098612</td>\n",
       "      <td>0.0</td>\n",
       "      <td>2.079442</td>\n",
       "      <td>1.945910</td>\n",
       "      <td>2.397895</td>\n",
       "      <td>2.397895</td>\n",
       "      <td>1.386294</td>\n",
       "      <td>0</td>\n",
       "    </tr>\n",
       "  </tbody>\n",
       "</table>\n",
       "<p>5 rows × 22 columns</p>\n",
       "</div>"
      ],
      "text/plain": [
       "        loc      v(g)     ev(g)     iv(g)         n         v         l  \\\n",
       "0  3.135494  1.386294  0.693147  1.098612  4.110874  5.633467  0.058269   \n",
       "1  2.708050  1.098612  0.693147  1.098612  3.496508  5.025655  0.131028   \n",
       "2  2.484907  1.098612  0.693147  1.098612  3.828641  5.291544  0.104360   \n",
       "3  2.197225  0.693147  0.693147  0.693147  3.178054  4.553982  0.173953   \n",
       "4  2.484907  1.098612  0.693147  1.098612  2.890372  4.126166  0.165514   \n",
       "\n",
       "          d         i         e  ...    lOCode  lOComment   lOBlank  \\\n",
       "0  3.023347  2.724580  8.603332  ...  2.890372   0.693147  0.693147   \n",
       "1  2.079442  3.096030  6.843441  ...  2.484907   0.000000  0.693147   \n",
       "2  2.202765  3.168003  7.470230  ...  2.197225   0.000000  0.693147   \n",
       "3  1.832581  2.937043  6.162599  ...  1.609438   0.000000  1.098612   \n",
       "4  1.891605  2.598235  5.904462  ...  2.079442   0.000000  1.098612   \n",
       "\n",
       "   locCodeAndComment   uniq_Op  uniq_Opnd  total_Op  total_Opnd  branchCount  \\\n",
       "0                0.0  2.833213   2.302585  3.663562    3.135494     1.791759   \n",
       "1                0.0  2.484907   2.484907  2.944439    2.708050     1.386294   \n",
       "2                0.0  2.564949   2.484907  3.367296    2.890372     1.386294   \n",
       "3                0.0  2.197225   1.945910  2.833213    2.079442     0.693147   \n",
       "4                0.0  2.079442   1.945910  2.397895    2.397895     1.386294   \n",
       "\n",
       "   defects  \n",
       "0        0  \n",
       "1        0  \n",
       "2        0  \n",
       "3        1  \n",
       "4        0  \n",
       "\n",
       "[5 rows x 22 columns]"
      ]
     },
     "execution_count": 10,
     "metadata": {},
     "output_type": "execute_result"
    }
   ],
   "source": [
    "ft=FunctionTransformer(func=np.log1p)\n",
    "data_copy[continuous_features]=ft.fit_transform(data_copy[continuous_features])\n",
    "data_copy.head()"
   ]
  },
  {
   "cell_type": "code",
   "execution_count": 11,
   "id": "14ceada1",
   "metadata": {},
   "outputs": [
    {
     "data": {
      "text/html": [
       "<div>\n",
       "<style scoped>\n",
       "    .dataframe tbody tr th:only-of-type {\n",
       "        vertical-align: middle;\n",
       "    }\n",
       "\n",
       "    .dataframe tbody tr th {\n",
       "        vertical-align: top;\n",
       "    }\n",
       "\n",
       "    .dataframe thead th {\n",
       "        text-align: right;\n",
       "    }\n",
       "</style>\n",
       "<table border=\"1\" class=\"dataframe\">\n",
       "  <thead>\n",
       "    <tr style=\"text-align: right;\">\n",
       "      <th></th>\n",
       "      <th>skew</th>\n",
       "      <th>too_skewed</th>\n",
       "    </tr>\n",
       "  </thead>\n",
       "  <tbody>\n",
       "    <tr>\n",
       "      <th>loc</th>\n",
       "      <td>0.508272</td>\n",
       "      <td>False</td>\n",
       "    </tr>\n",
       "    <tr>\n",
       "      <th>v(g)</th>\n",
       "      <td>0.858859</td>\n",
       "      <td>True</td>\n",
       "    </tr>\n",
       "    <tr>\n",
       "      <th>ev(g)</th>\n",
       "      <td>1.703185</td>\n",
       "      <td>True</td>\n",
       "    </tr>\n",
       "    <tr>\n",
       "      <th>iv(g)</th>\n",
       "      <td>1.188681</td>\n",
       "      <td>True</td>\n",
       "    </tr>\n",
       "    <tr>\n",
       "      <th>n</th>\n",
       "      <td>-1.045126</td>\n",
       "      <td>False</td>\n",
       "    </tr>\n",
       "    <tr>\n",
       "      <th>v</th>\n",
       "      <td>-1.369203</td>\n",
       "      <td>False</td>\n",
       "    </tr>\n",
       "    <tr>\n",
       "      <th>l</th>\n",
       "      <td>1.531066</td>\n",
       "      <td>True</td>\n",
       "    </tr>\n",
       "    <tr>\n",
       "      <th>d</th>\n",
       "      <td>-0.732313</td>\n",
       "      <td>False</td>\n",
       "    </tr>\n",
       "    <tr>\n",
       "      <th>i</th>\n",
       "      <td>-1.808835</td>\n",
       "      <td>False</td>\n",
       "    </tr>\n",
       "    <tr>\n",
       "      <th>e</th>\n",
       "      <td>-1.098970</td>\n",
       "      <td>False</td>\n",
       "    </tr>\n",
       "    <tr>\n",
       "      <th>b</th>\n",
       "      <td>3.971712</td>\n",
       "      <td>True</td>\n",
       "    </tr>\n",
       "    <tr>\n",
       "      <th>t</th>\n",
       "      <td>-0.272266</td>\n",
       "      <td>False</td>\n",
       "    </tr>\n",
       "    <tr>\n",
       "      <th>lOCode</th>\n",
       "      <td>-0.460926</td>\n",
       "      <td>False</td>\n",
       "    </tr>\n",
       "    <tr>\n",
       "      <th>lOComment</th>\n",
       "      <td>1.863725</td>\n",
       "      <td>True</td>\n",
       "    </tr>\n",
       "    <tr>\n",
       "      <th>lOBlank</th>\n",
       "      <td>0.320044</td>\n",
       "      <td>False</td>\n",
       "    </tr>\n",
       "    <tr>\n",
       "      <th>locCodeAndComment</th>\n",
       "      <td>4.374284</td>\n",
       "      <td>True</td>\n",
       "    </tr>\n",
       "    <tr>\n",
       "      <th>uniq_Op</th>\n",
       "      <td>-1.908272</td>\n",
       "      <td>False</td>\n",
       "    </tr>\n",
       "    <tr>\n",
       "      <th>uniq_Opnd</th>\n",
       "      <td>-0.888494</td>\n",
       "      <td>False</td>\n",
       "    </tr>\n",
       "    <tr>\n",
       "      <th>total_Op</th>\n",
       "      <td>-0.791599</td>\n",
       "      <td>False</td>\n",
       "    </tr>\n",
       "    <tr>\n",
       "      <th>total_Opnd</th>\n",
       "      <td>-0.539266</td>\n",
       "      <td>False</td>\n",
       "    </tr>\n",
       "    <tr>\n",
       "      <th>branchCount</th>\n",
       "      <td>0.464038</td>\n",
       "      <td>False</td>\n",
       "    </tr>\n",
       "    <tr>\n",
       "      <th>defects</th>\n",
       "      <td>1.305878</td>\n",
       "      <td>True</td>\n",
       "    </tr>\n",
       "  </tbody>\n",
       "</table>\n",
       "</div>"
      ],
      "text/plain": [
       "                       skew  too_skewed\n",
       "loc                0.508272       False\n",
       "v(g)               0.858859        True\n",
       "ev(g)              1.703185        True\n",
       "iv(g)              1.188681        True\n",
       "n                 -1.045126       False\n",
       "v                 -1.369203       False\n",
       "l                  1.531066        True\n",
       "d                 -0.732313       False\n",
       "i                 -1.808835       False\n",
       "e                 -1.098970       False\n",
       "b                  3.971712        True\n",
       "t                 -0.272266       False\n",
       "lOCode            -0.460926       False\n",
       "lOComment          1.863725        True\n",
       "lOBlank            0.320044       False\n",
       "locCodeAndComment  4.374284        True\n",
       "uniq_Op           -1.908272       False\n",
       "uniq_Opnd         -0.888494       False\n",
       "total_Op          -0.791599       False\n",
       "total_Opnd        -0.539266       False\n",
       "branchCount        0.464038       False\n",
       "defects            1.305878        True"
      ]
     },
     "execution_count": 11,
     "metadata": {},
     "output_type": "execute_result"
    }
   ],
   "source": [
    "skew = pd.DataFrame(data_copy.skew())\n",
    "skew.columns=['skew']\n",
    "skew['too_skewed'] = skew['skew'] > .75\n",
    "skew"
   ]
  },
  {
   "cell_type": "markdown",
   "id": "1051f30a",
   "metadata": {},
   "source": [
    "#### skew값이 아까보다 줄어든 것을 확인할 수 있다"
   ]
  },
  {
   "cell_type": "markdown",
   "id": "e4cde303",
   "metadata": {},
   "source": [
    "### Train data와 Test data split 하자"
   ]
  },
  {
   "cell_type": "code",
   "execution_count": 12,
   "id": "d643562b",
   "metadata": {},
   "outputs": [],
   "source": [
    "data_train, data_test = train_test_split(data, test_size=0.1, random_state=42)"
   ]
  },
  {
   "cell_type": "code",
   "execution_count": 13,
   "id": "efdb8eb5",
   "metadata": {},
   "outputs": [
    {
     "data": {
      "text/plain": [
       "0    70838\n",
       "1    20748\n",
       "Name: defects, dtype: int64"
      ]
     },
     "execution_count": 13,
     "metadata": {},
     "output_type": "execute_result"
    }
   ],
   "source": [
    "data_train['defects'].value_counts()"
   ]
  },
  {
   "cell_type": "code",
   "execution_count": 14,
   "id": "c0d96c35",
   "metadata": {},
   "outputs": [
    {
     "data": {
      "text/plain": [
       "0    7861\n",
       "1    2316\n",
       "Name: defects, dtype: int64"
      ]
     },
     "execution_count": 14,
     "metadata": {},
     "output_type": "execute_result"
    }
   ],
   "source": [
    "data_test['defects'].value_counts()"
   ]
  },
  {
   "cell_type": "code",
   "execution_count": 15,
   "id": "67d0a5e5",
   "metadata": {},
   "outputs": [],
   "source": [
    "y_col = 'defects'\n",
    "feature_cols = [x for x in data_train.columns if x != y_col]\n",
    "X_train = data_train[feature_cols]\n",
    "y_train = data_train[y_col]"
   ]
  },
  {
   "cell_type": "code",
   "execution_count": 16,
   "id": "76969c66",
   "metadata": {},
   "outputs": [],
   "source": [
    "feature_cols = [x for x in data_test.columns if x != y_col]\n",
    "X_test = data_test[feature_cols]\n",
    "y_test = data_test[y_col]"
   ]
  },
  {
   "cell_type": "code",
   "execution_count": 17,
   "id": "097a9be0",
   "metadata": {},
   "outputs": [
    {
     "data": {
      "text/html": [
       "<div>\n",
       "<style scoped>\n",
       "    .dataframe tbody tr th:only-of-type {\n",
       "        vertical-align: middle;\n",
       "    }\n",
       "\n",
       "    .dataframe tbody tr th {\n",
       "        vertical-align: top;\n",
       "    }\n",
       "\n",
       "    .dataframe thead th {\n",
       "        text-align: right;\n",
       "    }\n",
       "</style>\n",
       "<table border=\"1\" class=\"dataframe\">\n",
       "  <thead>\n",
       "    <tr style=\"text-align: right;\">\n",
       "      <th></th>\n",
       "      <th>loc</th>\n",
       "      <th>v(g)</th>\n",
       "      <th>ev(g)</th>\n",
       "      <th>iv(g)</th>\n",
       "      <th>n</th>\n",
       "      <th>v</th>\n",
       "      <th>l</th>\n",
       "      <th>d</th>\n",
       "      <th>i</th>\n",
       "      <th>e</th>\n",
       "      <th>...</th>\n",
       "      <th>t</th>\n",
       "      <th>lOCode</th>\n",
       "      <th>lOComment</th>\n",
       "      <th>lOBlank</th>\n",
       "      <th>locCodeAndComment</th>\n",
       "      <th>uniq_Op</th>\n",
       "      <th>uniq_Opnd</th>\n",
       "      <th>total_Op</th>\n",
       "      <th>total_Opnd</th>\n",
       "      <th>branchCount</th>\n",
       "    </tr>\n",
       "  </thead>\n",
       "  <tbody>\n",
       "    <tr>\n",
       "      <th>35956</th>\n",
       "      <td>21.0</td>\n",
       "      <td>3.0</td>\n",
       "      <td>1.0</td>\n",
       "      <td>3.0</td>\n",
       "      <td>71.0</td>\n",
       "      <td>355.00</td>\n",
       "      <td>0.10</td>\n",
       "      <td>10.50</td>\n",
       "      <td>34.29</td>\n",
       "      <td>3850.00</td>\n",
       "      <td>...</td>\n",
       "      <td>213.89</td>\n",
       "      <td>17</td>\n",
       "      <td>0</td>\n",
       "      <td>2</td>\n",
       "      <td>0</td>\n",
       "      <td>14.0</td>\n",
       "      <td>18.0</td>\n",
       "      <td>43.0</td>\n",
       "      <td>28.0</td>\n",
       "      <td>5.0</td>\n",
       "    </tr>\n",
       "    <tr>\n",
       "      <th>60927</th>\n",
       "      <td>29.0</td>\n",
       "      <td>4.0</td>\n",
       "      <td>1.0</td>\n",
       "      <td>2.0</td>\n",
       "      <td>67.0</td>\n",
       "      <td>315.78</td>\n",
       "      <td>0.08</td>\n",
       "      <td>12.79</td>\n",
       "      <td>27.54</td>\n",
       "      <td>4162.24</td>\n",
       "      <td>...</td>\n",
       "      <td>231.24</td>\n",
       "      <td>17</td>\n",
       "      <td>4</td>\n",
       "      <td>4</td>\n",
       "      <td>2</td>\n",
       "      <td>15.0</td>\n",
       "      <td>17.0</td>\n",
       "      <td>42.0</td>\n",
       "      <td>29.0</td>\n",
       "      <td>7.0</td>\n",
       "    </tr>\n",
       "    <tr>\n",
       "      <th>79918</th>\n",
       "      <td>42.0</td>\n",
       "      <td>11.0</td>\n",
       "      <td>9.0</td>\n",
       "      <td>5.0</td>\n",
       "      <td>165.0</td>\n",
       "      <td>872.80</td>\n",
       "      <td>0.05</td>\n",
       "      <td>21.72</td>\n",
       "      <td>49.79</td>\n",
       "      <td>26903.76</td>\n",
       "      <td>...</td>\n",
       "      <td>1494.65</td>\n",
       "      <td>33</td>\n",
       "      <td>1</td>\n",
       "      <td>4</td>\n",
       "      <td>0</td>\n",
       "      <td>17.0</td>\n",
       "      <td>29.0</td>\n",
       "      <td>96.0</td>\n",
       "      <td>69.0</td>\n",
       "      <td>21.0</td>\n",
       "    </tr>\n",
       "    <tr>\n",
       "      <th>50078</th>\n",
       "      <td>8.0</td>\n",
       "      <td>1.0</td>\n",
       "      <td>1.0</td>\n",
       "      <td>1.0</td>\n",
       "      <td>7.0</td>\n",
       "      <td>19.65</td>\n",
       "      <td>0.33</td>\n",
       "      <td>3.00</td>\n",
       "      <td>6.55</td>\n",
       "      <td>58.95</td>\n",
       "      <td>...</td>\n",
       "      <td>3.28</td>\n",
       "      <td>3</td>\n",
       "      <td>0</td>\n",
       "      <td>2</td>\n",
       "      <td>0</td>\n",
       "      <td>6.0</td>\n",
       "      <td>1.0</td>\n",
       "      <td>6.0</td>\n",
       "      <td>1.0</td>\n",
       "      <td>1.0</td>\n",
       "    </tr>\n",
       "    <tr>\n",
       "      <th>44080</th>\n",
       "      <td>5.0</td>\n",
       "      <td>1.0</td>\n",
       "      <td>1.0</td>\n",
       "      <td>1.0</td>\n",
       "      <td>14.0</td>\n",
       "      <td>46.51</td>\n",
       "      <td>0.33</td>\n",
       "      <td>3.00</td>\n",
       "      <td>15.50</td>\n",
       "      <td>139.52</td>\n",
       "      <td>...</td>\n",
       "      <td>7.75</td>\n",
       "      <td>3</td>\n",
       "      <td>0</td>\n",
       "      <td>0</td>\n",
       "      <td>0</td>\n",
       "      <td>5.0</td>\n",
       "      <td>5.0</td>\n",
       "      <td>8.0</td>\n",
       "      <td>6.0</td>\n",
       "      <td>1.0</td>\n",
       "    </tr>\n",
       "    <tr>\n",
       "      <th>...</th>\n",
       "      <td>...</td>\n",
       "      <td>...</td>\n",
       "      <td>...</td>\n",
       "      <td>...</td>\n",
       "      <td>...</td>\n",
       "      <td>...</td>\n",
       "      <td>...</td>\n",
       "      <td>...</td>\n",
       "      <td>...</td>\n",
       "      <td>...</td>\n",
       "      <td>...</td>\n",
       "      <td>...</td>\n",
       "      <td>...</td>\n",
       "      <td>...</td>\n",
       "      <td>...</td>\n",
       "      <td>...</td>\n",
       "      <td>...</td>\n",
       "      <td>...</td>\n",
       "      <td>...</td>\n",
       "      <td>...</td>\n",
       "      <td>...</td>\n",
       "    </tr>\n",
       "    <tr>\n",
       "      <th>74384</th>\n",
       "      <td>16.0</td>\n",
       "      <td>5.0</td>\n",
       "      <td>3.0</td>\n",
       "      <td>2.0</td>\n",
       "      <td>47.0</td>\n",
       "      <td>215.49</td>\n",
       "      <td>0.08</td>\n",
       "      <td>13.20</td>\n",
       "      <td>15.44</td>\n",
       "      <td>2868.91</td>\n",
       "      <td>...</td>\n",
       "      <td>159.68</td>\n",
       "      <td>11</td>\n",
       "      <td>0</td>\n",
       "      <td>3</td>\n",
       "      <td>0</td>\n",
       "      <td>14.0</td>\n",
       "      <td>10.0</td>\n",
       "      <td>28.0</td>\n",
       "      <td>18.0</td>\n",
       "      <td>9.0</td>\n",
       "    </tr>\n",
       "    <tr>\n",
       "      <th>96889</th>\n",
       "      <td>11.0</td>\n",
       "      <td>2.0</td>\n",
       "      <td>1.0</td>\n",
       "      <td>1.0</td>\n",
       "      <td>22.0</td>\n",
       "      <td>89.92</td>\n",
       "      <td>0.20</td>\n",
       "      <td>5.00</td>\n",
       "      <td>17.51</td>\n",
       "      <td>466.67</td>\n",
       "      <td>...</td>\n",
       "      <td>25.93</td>\n",
       "      <td>9</td>\n",
       "      <td>0</td>\n",
       "      <td>0</td>\n",
       "      <td>0</td>\n",
       "      <td>10.0</td>\n",
       "      <td>7.0</td>\n",
       "      <td>15.0</td>\n",
       "      <td>7.0</td>\n",
       "      <td>3.0</td>\n",
       "    </tr>\n",
       "    <tr>\n",
       "      <th>30725</th>\n",
       "      <td>74.0</td>\n",
       "      <td>9.0</td>\n",
       "      <td>8.0</td>\n",
       "      <td>6.0</td>\n",
       "      <td>0.0</td>\n",
       "      <td>0.00</td>\n",
       "      <td>0.00</td>\n",
       "      <td>0.00</td>\n",
       "      <td>0.00</td>\n",
       "      <td>0.00</td>\n",
       "      <td>...</td>\n",
       "      <td>0.00</td>\n",
       "      <td>0</td>\n",
       "      <td>0</td>\n",
       "      <td>0</td>\n",
       "      <td>0</td>\n",
       "      <td>0.0</td>\n",
       "      <td>0.0</td>\n",
       "      <td>0.0</td>\n",
       "      <td>0.0</td>\n",
       "      <td>17.0</td>\n",
       "    </tr>\n",
       "    <tr>\n",
       "      <th>59800</th>\n",
       "      <td>56.0</td>\n",
       "      <td>8.0</td>\n",
       "      <td>1.0</td>\n",
       "      <td>6.0</td>\n",
       "      <td>148.0</td>\n",
       "      <td>771.00</td>\n",
       "      <td>0.03</td>\n",
       "      <td>32.34</td>\n",
       "      <td>24.10</td>\n",
       "      <td>25372.20</td>\n",
       "      <td>...</td>\n",
       "      <td>1409.57</td>\n",
       "      <td>42</td>\n",
       "      <td>1</td>\n",
       "      <td>11</td>\n",
       "      <td>0</td>\n",
       "      <td>21.0</td>\n",
       "      <td>17.0</td>\n",
       "      <td>96.0</td>\n",
       "      <td>52.0</td>\n",
       "      <td>15.0</td>\n",
       "    </tr>\n",
       "    <tr>\n",
       "      <th>71972</th>\n",
       "      <td>32.0</td>\n",
       "      <td>3.0</td>\n",
       "      <td>1.0</td>\n",
       "      <td>2.0</td>\n",
       "      <td>95.0</td>\n",
       "      <td>470.65</td>\n",
       "      <td>0.09</td>\n",
       "      <td>11.14</td>\n",
       "      <td>40.81</td>\n",
       "      <td>5128.16</td>\n",
       "      <td>...</td>\n",
       "      <td>284.90</td>\n",
       "      <td>24</td>\n",
       "      <td>0</td>\n",
       "      <td>5</td>\n",
       "      <td>0</td>\n",
       "      <td>12.0</td>\n",
       "      <td>21.0</td>\n",
       "      <td>63.0</td>\n",
       "      <td>32.0</td>\n",
       "      <td>5.0</td>\n",
       "    </tr>\n",
       "  </tbody>\n",
       "</table>\n",
       "<p>10177 rows × 21 columns</p>\n",
       "</div>"
      ],
      "text/plain": [
       "        loc  v(g)  ev(g)  iv(g)      n       v     l      d      i         e  \\\n",
       "35956  21.0   3.0    1.0    3.0   71.0  355.00  0.10  10.50  34.29   3850.00   \n",
       "60927  29.0   4.0    1.0    2.0   67.0  315.78  0.08  12.79  27.54   4162.24   \n",
       "79918  42.0  11.0    9.0    5.0  165.0  872.80  0.05  21.72  49.79  26903.76   \n",
       "50078   8.0   1.0    1.0    1.0    7.0   19.65  0.33   3.00   6.55     58.95   \n",
       "44080   5.0   1.0    1.0    1.0   14.0   46.51  0.33   3.00  15.50    139.52   \n",
       "...     ...   ...    ...    ...    ...     ...   ...    ...    ...       ...   \n",
       "74384  16.0   5.0    3.0    2.0   47.0  215.49  0.08  13.20  15.44   2868.91   \n",
       "96889  11.0   2.0    1.0    1.0   22.0   89.92  0.20   5.00  17.51    466.67   \n",
       "30725  74.0   9.0    8.0    6.0    0.0    0.00  0.00   0.00   0.00      0.00   \n",
       "59800  56.0   8.0    1.0    6.0  148.0  771.00  0.03  32.34  24.10  25372.20   \n",
       "71972  32.0   3.0    1.0    2.0   95.0  470.65  0.09  11.14  40.81   5128.16   \n",
       "\n",
       "       ...        t  lOCode  lOComment  lOBlank  locCodeAndComment  uniq_Op  \\\n",
       "35956  ...   213.89      17          0        2                  0     14.0   \n",
       "60927  ...   231.24      17          4        4                  2     15.0   \n",
       "79918  ...  1494.65      33          1        4                  0     17.0   \n",
       "50078  ...     3.28       3          0        2                  0      6.0   \n",
       "44080  ...     7.75       3          0        0                  0      5.0   \n",
       "...    ...      ...     ...        ...      ...                ...      ...   \n",
       "74384  ...   159.68      11          0        3                  0     14.0   \n",
       "96889  ...    25.93       9          0        0                  0     10.0   \n",
       "30725  ...     0.00       0          0        0                  0      0.0   \n",
       "59800  ...  1409.57      42          1       11                  0     21.0   \n",
       "71972  ...   284.90      24          0        5                  0     12.0   \n",
       "\n",
       "       uniq_Opnd  total_Op  total_Opnd  branchCount  \n",
       "35956       18.0      43.0        28.0          5.0  \n",
       "60927       17.0      42.0        29.0          7.0  \n",
       "79918       29.0      96.0        69.0         21.0  \n",
       "50078        1.0       6.0         1.0          1.0  \n",
       "44080        5.0       8.0         6.0          1.0  \n",
       "...          ...       ...         ...          ...  \n",
       "74384       10.0      28.0        18.0          9.0  \n",
       "96889        7.0      15.0         7.0          3.0  \n",
       "30725        0.0       0.0         0.0         17.0  \n",
       "59800       17.0      96.0        52.0         15.0  \n",
       "71972       21.0      63.0        32.0          5.0  \n",
       "\n",
       "[10177 rows x 21 columns]"
      ]
     },
     "execution_count": 17,
     "metadata": {},
     "output_type": "execute_result"
    }
   ],
   "source": [
    "X_test"
   ]
  },
  {
   "cell_type": "markdown",
   "id": "759bc871",
   "metadata": {},
   "source": [
    "### NN, NB, SVM, DT 를 간단하게 구현해보고 정확성을 확인한 후 , 개선해보자"
   ]
  },
  {
   "cell_type": "markdown",
   "id": "8fb58ed5",
   "metadata": {},
   "source": [
    "# 1. KNN"
   ]
  },
  {
   "cell_type": "markdown",
   "id": "2bee9509",
   "metadata": {},
   "source": [
    "### 1. K의 숫자를 변경하면서 성능을 개선할 수 있다.\n",
    "### 2. distance measure 방법을 변경해보면서 성능을 개선할 수 있다."
   ]
  },
  {
   "cell_type": "code",
   "execution_count": 18,
   "id": "bfc20891",
   "metadata": {},
   "outputs": [],
   "source": [
    "def accuracy(real, predict):\n",
    "    return sum(real == predict) / float(real.shape[0])"
   ]
  },
  {
   "cell_type": "code",
   "execution_count": 19,
   "id": "fd98a85d",
   "metadata": {},
   "outputs": [
    {
     "name": "stdout",
     "output_type": "stream",
     "text": [
      "0.7804854082735581\n"
     ]
    }
   ],
   "source": [
    "# KNN K값 바꿔가면서 적용\n",
    "score_list = list()\n",
    "\n",
    "knn = KNeighborsClassifier(n_neighbors=2)\n",
    "knn = knn.fit(X_train, y_train)\n",
    "\n",
    "y_pred = knn.predict(X_test)\n",
    "KNN_score = accuracy(y_test, y_pred)\n",
    "print(KNN_score)"
   ]
  },
  {
   "cell_type": "markdown",
   "id": "a9ae52c0",
   "metadata": {},
   "source": [
    "# 2.NB"
   ]
  },
  {
   "cell_type": "markdown",
   "id": "43995a09",
   "metadata": {},
   "source": [
    "### binary classification이기 때문에 bernoulli를 우선적으로 baseline으로 적용합니다.\n",
    "\n",
    "### 'gaussian', 'bernoulli', 'multinomial'의 3가지 모델을 비교하여 best model을 찾을 것이다."
   ]
  },
  {
   "cell_type": "code",
   "execution_count": 20,
   "id": "e0fbf264",
   "metadata": {},
   "outputs": [],
   "source": [
    "# 3개의 모델을 각각 적용\n",
    "NB = BernoulliNB(alpha = 5.0)\n",
    "\n",
    "NB.fit(X_train,y_train)\n",
    "y_pred = NB.predict(X_test)\n",
    "\n",
    "NBscore = accuracy(y_test, y_pred)"
   ]
  },
  {
   "cell_type": "code",
   "execution_count": 21,
   "id": "f9f375dd",
   "metadata": {},
   "outputs": [
    {
     "data": {
      "text/plain": [
       "0.770069765156726"
      ]
     },
     "execution_count": 21,
     "metadata": {},
     "output_type": "execute_result"
    }
   ],
   "source": [
    "NBscore"
   ]
  },
  {
   "cell_type": "markdown",
   "id": "cc6d8e0d",
   "metadata": {},
   "source": [
    "# 3.SVM"
   ]
  },
  {
   "cell_type": "markdown",
   "id": "b15cde18",
   "metadata": {},
   "source": [
    "### Parameter을 조정하고, gamma값, C값 iteration 값 등을 변경해가며 성능을 개선할 수 있다.\n",
    "### SVC를 진행하려면 Scaling을 진행해야한다. 이러한 이유로 위에서 Scaling을 진행했다."
   ]
  },
  {
   "cell_type": "code",
   "execution_count": null,
   "id": "fa968893",
   "metadata": {},
   "outputs": [
    {
     "name": "stderr",
     "output_type": "stream",
     "text": [
      "c:\\Python38\\lib\\site-packages\\sklearn\\svm\\_base.py:299: ConvergenceWarning: Solver terminated early (max_iter=1000).  Consider pre-processing your data with StandardScaler or MinMaxScaler.\n",
      "  warnings.warn(\n"
     ]
    }
   ],
   "source": [
    "SVC_Gaussian = SVC(gamma='scale', max_iter= 1000)\n",
    "SVC_Gaussian.fit(X_train, y_train)\n",
    "y_pred = SVC_Gaussian.predict(X_test)\n",
    "SVCscore = accuracy(y_test, y_pred)"
   ]
  },
  {
   "cell_type": "code",
   "execution_count": 22,
   "id": "cd57a1f5",
   "metadata": {},
   "outputs": [
    {
     "name": "stderr",
     "output_type": "stream",
     "text": [
      "C:\\Users\\jimmy0505\\AppData\\Local\\Temp\\ipykernel_15344\\2122400347.py:6: SettingWithCopyWarning: \n",
      "A value is trying to be set on a copy of a slice from a DataFrame.\n",
      "Try using .loc[row_indexer,col_indexer] = value instead\n",
      "\n",
      "See the caveats in the documentation: https://pandas.pydata.org/pandas-docs/stable/user_guide/indexing.html#returning-a-view-versus-a-copy\n",
      "  trainingset[columns] = scaler.fit_transform(trainingset[columns])\n",
      "C:\\Users\\jimmy0505\\AppData\\Local\\Temp\\ipykernel_15344\\2122400347.py:7: SettingWithCopyWarning: \n",
      "A value is trying to be set on a copy of a slice from a DataFrame.\n",
      "Try using .loc[row_indexer,col_indexer] = value instead\n",
      "\n",
      "See the caveats in the documentation: https://pandas.pydata.org/pandas-docs/stable/user_guide/indexing.html#returning-a-view-versus-a-copy\n",
      "  testset[columns] = scaler.transform(testset[columns])\n"
     ]
    }
   ],
   "source": [
    "columns = X_train.columns\n",
    "scaler = RobustScaler()\n",
    "# scaler = MinMaxScaler()\n",
    "trainingset = X_train\n",
    "testset = X_test\n",
    "trainingset[columns] = scaler.fit_transform(trainingset[columns])\n",
    "testset[columns] = scaler.transform(testset[columns])\n",
    "X_train = trainingset\n",
    "X_test = testset"
   ]
  },
  {
   "cell_type": "code",
   "execution_count": 30,
   "id": "b9144e3a",
   "metadata": {},
   "outputs": [
    {
     "name": "stderr",
     "output_type": "stream",
     "text": [
      "c:\\Python38\\lib\\site-packages\\sklearn\\svm\\_base.py:299: ConvergenceWarning: Solver terminated early (max_iter=1000).  Consider pre-processing your data with StandardScaler or MinMaxScaler.\n",
      "  warnings.warn(\n"
     ]
    }
   ],
   "source": [
    "SVC_Gaussian = SVC(gamma='scale', max_iter= 1000)\n",
    "SVC_Gaussian.fit(X_train, y_train)\n",
    "y_pred = SVC_Gaussian.predict(X_test)\n",
    "SVCscore = accuracy(y_test, y_pred)"
   ]
  },
  {
   "cell_type": "code",
   "execution_count": 31,
   "id": "e8aee4eb",
   "metadata": {},
   "outputs": [
    {
     "data": {
      "text/plain": [
       "0.21813894074874718"
      ]
     },
     "execution_count": 31,
     "metadata": {},
     "output_type": "execute_result"
    }
   ],
   "source": [
    "SVCscore"
   ]
  },
  {
   "cell_type": "markdown",
   "id": "0c82e7eb",
   "metadata": {},
   "source": [
    "# 4.DT\n",
    "### GridSearch를 이용하여 max_depth, max_features의 최적 조합을 탐색할 수 있다."
   ]
  },
  {
   "cell_type": "code",
   "execution_count": 23,
   "id": "034ade8a",
   "metadata": {},
   "outputs": [
    {
     "data": {
      "text/plain": [
       "0.7210376338803184"
      ]
     },
     "execution_count": 23,
     "metadata": {},
     "output_type": "execute_result"
    }
   ],
   "source": [
    "dt = DecisionTreeClassifier(random_state=42)\n",
    "dt = dt.fit(X_train, y_train)\n",
    "dt.tree_.node_count, dt.tree_.max_depth\n",
    "\n",
    "y_train_pred = dt.predict(X_train)\n",
    "y_test_pred = dt.predict(X_test)\n",
    "\n",
    "DTscore = accuracy(y_test, y_test_pred)\n",
    "DTscore"
   ]
  },
  {
   "cell_type": "code",
   "execution_count": 32,
   "id": "3573d4fb",
   "metadata": {},
   "outputs": [
    {
     "data": {
      "text/html": [
       "<div>\n",
       "<style scoped>\n",
       "    .dataframe tbody tr th:only-of-type {\n",
       "        vertical-align: middle;\n",
       "    }\n",
       "\n",
       "    .dataframe tbody tr th {\n",
       "        vertical-align: top;\n",
       "    }\n",
       "\n",
       "    .dataframe thead th {\n",
       "        text-align: right;\n",
       "    }\n",
       "</style>\n",
       "<table border=\"1\" class=\"dataframe\">\n",
       "  <thead>\n",
       "    <tr style=\"text-align: right;\">\n",
       "      <th></th>\n",
       "      <th>KNN</th>\n",
       "      <th>NB</th>\n",
       "      <th>SVM</th>\n",
       "      <th>DT</th>\n",
       "    </tr>\n",
       "  </thead>\n",
       "  <tbody>\n",
       "    <tr>\n",
       "      <th>BASELINE</th>\n",
       "      <td>0.780485</td>\n",
       "      <td>0.77007</td>\n",
       "      <td>0.218139</td>\n",
       "      <td>0.721038</td>\n",
       "    </tr>\n",
       "  </tbody>\n",
       "</table>\n",
       "</div>"
      ],
      "text/plain": [
       "               KNN       NB       SVM        DT\n",
       "BASELINE  0.780485  0.77007  0.218139  0.721038"
      ]
     },
     "execution_count": 32,
     "metadata": {},
     "output_type": "execute_result"
    }
   ],
   "source": [
    "scores = [[KNN_score, NBscore, SVCscore, DTscore]]\n",
    "col = ['KNN','NB', 'SVM', 'DT']\n",
    "ind = ['BASELINE']\n",
    "df = pd.DataFrame(scores, columns=col, index=ind)\n",
    "df"
   ]
  },
  {
   "cell_type": "markdown",
   "id": "2b35c1a2",
   "metadata": {},
   "source": [
    "SVM의 점수가 낮게 나온 이유 Reasoning\n",
    "매개변수 튜닝의 필요성: SVM은 커널 함수와 규제 매개변수(C, gamma 등)를 튜닝해야 할 수 있습니다. 올바른 매개변수 설정이 중요하며, 이를 위해 교차 검증과 같은 기법을 사용하여 최적의 매개변수를 찾아야 할 수 있다.\n",
    "\n",
    "데이터의 불균형: 클래스 간 데이터의 불균형이 있을 경우 SVM은 더 작은 클래스에 대해 성능이 낮을 수 있습니다. 이 경우에는 데이터 리샘플링이나 클래스 가중치 조정과 같은 방법으로 불균형을 처리할 필요가 있을 수 있습니다."
   ]
  },
  {
   "cell_type": "markdown",
   "id": "60d599b6",
   "metadata": {},
   "source": [
    "## 1. Best KNN 찾기"
   ]
  },
  {
   "cell_type": "code",
   "execution_count": 33,
   "id": "04f06dec",
   "metadata": {},
   "outputs": [],
   "source": [
    "score_list = list()\n",
    "\n",
    "MANHATTAN_DIST = 1\n",
    "EUCLIDEAN_DIST = 2\n",
    "\n",
    "distance_measure = {\n",
    "    'manhattan': MANHATTAN_DIST,\n",
    "    'euclidean': EUCLIDEAN_DIST\n",
    "    }\n",
    "\n",
    "for label,dist_measure in distance_measure.items():\n",
    "    for k in range(1, 21):\n",
    "        \n",
    "        knn = KNeighborsClassifier(n_neighbors=k, p=dist_measure)\n",
    "        knn = knn.fit(X_train, y_train)\n",
    "        \n",
    "        y_pred = knn.predict(X_test)\n",
    "        score = accuracy(y_test, y_pred)\n",
    "        \n",
    "        score_list.append((label,k,score))\n",
    "    \n",
    "score_df = pd.DataFrame(score_list, columns=['label','k', 'accuracy'])"
   ]
  },
  {
   "cell_type": "code",
   "execution_count": 34,
   "id": "170e2550",
   "metadata": {},
   "outputs": [
    {
     "data": {
      "image/png": "[encoded data removed]",
      "text/plain": [
       "<Figure size 432x288 with 1 Axes>"
      ]
     },
     "metadata": {},
     "output_type": "display_data"
    }
   ],
   "source": [
    "sns.set_context('talk')\n",
    "sns.set_style('ticks')\n",
    "sns.set_palette('dark')\n",
    "\n",
    "manhattan_score_df = score_df[score_df['label'] =='manhattan']\n",
    "euclidean_score_df = score_df[score_df['label'] =='euclidean']\n",
    "\n",
    "plt.plot(manhattan_score_df['k'],manhattan_score_df['accuracy'],label='Manhattan')\n",
    "plt.plot(euclidean_score_df['k'],euclidean_score_df['accuracy'],label='Euclidean')\n",
    "\n",
    "plt.xlabel('k')\n",
    "plt.ylabel('accuracy')\n",
    "\n",
    "plt.legend()\n",
    "\n",
    "plt.show()"
   ]
  },
  {
   "cell_type": "code",
   "execution_count": 35,
   "id": "623ab16b",
   "metadata": {},
   "outputs": [
    {
     "data": {
      "text/html": [
       "<div>\n",
       "<style scoped>\n",
       "    .dataframe tbody tr th:only-of-type {\n",
       "        vertical-align: middle;\n",
       "    }\n",
       "\n",
       "    .dataframe tbody tr th {\n",
       "        vertical-align: top;\n",
       "    }\n",
       "\n",
       "    .dataframe thead th {\n",
       "        text-align: right;\n",
       "    }\n",
       "</style>\n",
       "<table border=\"1\" class=\"dataframe\">\n",
       "  <thead>\n",
       "    <tr style=\"text-align: right;\">\n",
       "      <th></th>\n",
       "      <th>label</th>\n",
       "      <th>k</th>\n",
       "      <th>accuracy</th>\n",
       "    </tr>\n",
       "  </thead>\n",
       "  <tbody>\n",
       "    <tr>\n",
       "      <th>18</th>\n",
       "      <td>manhattan</td>\n",
       "      <td>19</td>\n",
       "      <td>0.805542</td>\n",
       "    </tr>\n",
       "  </tbody>\n",
       "</table>\n",
       "</div>"
      ],
      "text/plain": [
       "        label   k  accuracy\n",
       "18  manhattan  19  0.805542"
      ]
     },
     "execution_count": 35,
     "metadata": {},
     "output_type": "execute_result"
    }
   ],
   "source": [
    "score_df[score_df.accuracy == score_df.accuracy.max()]"
   ]
  },
  {
   "cell_type": "code",
   "execution_count": 36,
   "id": "84511e9b",
   "metadata": {},
   "outputs": [
    {
     "name": "stdout",
     "output_type": "stream",
     "text": [
      "              precision    recall  f1-score   support\n",
      "\n",
      "           0       0.84      0.93      0.88      7861\n",
      "           1       0.62      0.38      0.47      2316\n",
      "\n",
      "    accuracy                           0.81     10177\n",
      "   macro avg       0.73      0.66      0.68     10177\n",
      "weighted avg       0.79      0.81      0.79     10177\n",
      "\n"
     ]
    }
   ],
   "source": [
    "knn = KNeighborsClassifier(n_neighbors=19, p=1)\n",
    "knn = knn.fit(X_train, y_train)\n",
    "y_pred = knn.predict(X_test)\n",
    "\n",
    "cr = classification_report(y_test, y_pred)\n",
    "print(cr)"
   ]
  },
  {
   "cell_type": "code",
   "execution_count": 37,
   "id": "52542552",
   "metadata": {},
   "outputs": [
    {
     "name": "stdout",
     "output_type": "stream",
     "text": [
      "0.8055419082244276\n"
     ]
    }
   ],
   "source": [
    "Best_KNN_score = score_df.accuracy.max()\n",
    "print(Best_KNN_score)"
   ]
  },
  {
   "cell_type": "markdown",
   "id": "e18837e2",
   "metadata": {},
   "source": [
    "KNN 분석에서 Manhattan distance가 Euclidean distance보다 더 나은 성능을 보였고, K 값의 증가에 따라 정확도가 상승하였다는 것을 확인했습니다.\n",
    "Manhattan distance를 사용하였을 때 Euclidean distance를 사용했을 때 보다 전반적으로 더 나은 성능을 보였으며, k가 19일때 accuracy가 가장 높았습니다.\n",
    "\n",
    "Manhattan distance는 두 점 사이의 거리를 측정할 때 좌표상의 각 축에 대해 수직 방향으로 거리를 계산하는 반면, Euclidean distance는 직선 거리를 의미합니다. 때때로 데이터가 공간에서 더 많은 특징을 갖고 있을 때 Manhattan distance가 더 좋은 결과를 보일 수 있습니다. 이는 데이터의 특성에 따라 다르며, 이 경우에는 Manhattan distance가 더 적합한 metric으로 보입니다.\n",
    "\n",
    "K 값이 작을 때(여기서는 1) 모델이 너무 복잡해져서 훈련 데이터에 과적합되는 경향이 있습니다. 따라서 이 경우에는 새로운 데이터에 대한 일반화 능력이 낮아질 수 있습니다. 이것이 1일 때 낮은 정확도를 설명할 수 있습니다.\n",
    "\n",
    "K 값이 증가함에 따라 모델의 복잡성이 감소하고, 이웃들의 다양성이 더 많이 반영되기 때문에 일반화 능력이 향상될 수 있습니다. 여기서는 K가 19일 때 가장 높은 정확도를 보여줬으며, 이는 주어진 데이터셋에서 더 많은 이웃을 고려할 때 모델의 성능이 향상되었음을 시사합니다."
   ]
  },
  {
   "cell_type": "markdown",
   "id": "345477a1",
   "metadata": {},
   "source": [
    "# 2. Best NB 찾기"
   ]
  },
  {
   "cell_type": "code",
   "execution_count": 38,
   "id": "036434bb",
   "metadata": {},
   "outputs": [],
   "source": [
    "Best_NBscore = 0\n",
    "models = {\n",
    "    'Bernoulli': BernoulliNB,\n",
    "    'Gaussian': GaussianNB,\n",
    "}\n",
    "# Parameter를 바꿔가며 적용\n",
    "params = {\n",
    "    'Bernoulli': {'alpha': [1e-9, 0.1, 0.5, 1.0]},\n",
    "    'Gaussian': {'var_smoothing': [0.0, 0.5, 1.0]},\n",
    "}\n",
    "\n",
    "score = {}\n",
    "best_estimator = {}\n",
    "for key, model in models.items():\n",
    "    GR = GridSearchCV(model(), param_grid=params[key], scoring='accuracy', n_jobs=-1)\n",
    "    GR = GR.fit(X_train, y_train)\n",
    "    y_pred = GR.predict(X_test)\n",
    "    score[key] = accuracy(y_test, y_pred)\n",
    "    score[key + '_classification_report'] = classification_report(y_test, y_pred)\n",
    "\n",
    "    best_estimator[key] = GR.best_estimator_"
   ]
  },
  {
   "cell_type": "code",
   "execution_count": 39,
   "id": "dbce7e3c",
   "metadata": {},
   "outputs": [
    {
     "name": "stdout",
     "output_type": "stream",
     "text": [
      "[Bernoulli] \n",
      "0.627689888965314\n",
      "[Bernoulli_classification_report] \n",
      "              precision    recall  f1-score   support\n",
      "\n",
      "           0       0.85      0.63      0.72      7861\n",
      "           1       0.33      0.63      0.44      2316\n",
      "\n",
      "    accuracy                           0.63     10177\n",
      "   macro avg       0.59      0.63      0.58     10177\n",
      "weighted avg       0.73      0.63      0.66     10177\n",
      "\n",
      "[Gaussian] \n",
      "0.7987619141200747\n",
      "[Gaussian_classification_report] \n",
      "              precision    recall  f1-score   support\n",
      "\n",
      "           0       0.82      0.95      0.88      7861\n",
      "           1       0.63      0.29      0.39      2316\n",
      "\n",
      "    accuracy                           0.80     10177\n",
      "   macro avg       0.72      0.62      0.64     10177\n",
      "weighted avg       0.78      0.80      0.77     10177\n",
      "\n"
     ]
    }
   ],
   "source": [
    "for key,value in score.items():\n",
    "    print(f'[{key}] \\n{value}')"
   ]
  },
  {
   "cell_type": "code",
   "execution_count": 40,
   "id": "09802ed2",
   "metadata": {},
   "outputs": [
    {
     "data": {
      "text/plain": [
       "{'Bernoulli': BernoulliNB(alpha=1e-09),\n",
       " 'Gaussian': GaussianNB(var_smoothing=0.0)}"
      ]
     },
     "execution_count": 40,
     "metadata": {},
     "output_type": "execute_result"
    }
   ],
   "source": [
    "best_estimator"
   ]
  },
  {
   "cell_type": "code",
   "execution_count": 41,
   "id": "75749173",
   "metadata": {},
   "outputs": [
    {
     "data": {
      "text/plain": [
       "0.7987619141200747"
      ]
     },
     "execution_count": 41,
     "metadata": {},
     "output_type": "execute_result"
    }
   ],
   "source": [
    "Best_NBscore = score['Gaussian']\n",
    "Best_NBscore"
   ]
  },
  {
   "cell_type": "markdown",
   "id": "feef4dba",
   "metadata": {},
   "source": [
    "NB(Naive Bayes) 분석에서 RobustScaler를 적용하고 Bernoulli와 Gaussian 알고리즘을 사용하여 실험을 진행하였으며, Gaussian 알고리즘이 더 높은 정확도를 보였습니다. \n",
    "\n",
    "또한, GridSearch를 사용하여 최적의 파라미터를 탐색한 결과 GaussianNB의 var_smoothing이 0.0일 때 가장 높은 정확도를 보였습니다.\n",
    "\n",
    "GaussianNB와 BernoulliNB를 비교했을 때, 데이터의 분포나 특성에 따라 Gaussian 알고리즘이 더 나은 결과를 보이는 경우가 많습니다. 주어진 데이터셋에서도 Gaussian 알고리즘이 Bernoulli 알고리즘보다 훨씬 높은 정확도를 보였습니다. \n",
    "\n",
    "이는 이 데이터가 연속적인 특성을 가지고 있거나, Gaussian 분포를 따른다고 가정할 수 있는 경우였기 때문으로 보여집니다.\n"
   ]
  },
  {
   "cell_type": "markdown",
   "id": "bcc7b244",
   "metadata": {},
   "source": [
    "# 3. Best SVM 찾기"
   ]
  },
  {
   "cell_type": "code",
   "execution_count": null,
   "id": "72eb1286",
   "metadata": {},
   "outputs": [
    {
     "name": "stderr",
     "output_type": "stream",
     "text": [
      "c:\\Python38\\lib\\site-packages\\sklearn\\svm\\_base.py:1244: ConvergenceWarning: Liblinear failed to converge, increase the number of iterations.\n",
      "  warnings.warn(\n"
     ]
    },
    {
     "name": "stdout",
     "output_type": "stream",
     "text": [
      "C = 0.001, score :  0.7995480003930432\n"
     ]
    },
    {
     "name": "stderr",
     "output_type": "stream",
     "text": [
      "c:\\Python38\\lib\\site-packages\\sklearn\\svm\\_base.py:1244: ConvergenceWarning: Liblinear failed to converge, increase the number of iterations.\n",
      "  warnings.warn(\n"
     ]
    },
    {
     "name": "stdout",
     "output_type": "stream",
     "text": [
      "C = 0.01, score :  0.8000393043136484\n"
     ]
    },
    {
     "name": "stderr",
     "output_type": "stream",
     "text": [
      "c:\\Python38\\lib\\site-packages\\sklearn\\svm\\_base.py:1244: ConvergenceWarning: Liblinear failed to converge, increase the number of iterations.\n",
      "  warnings.warn(\n"
     ]
    },
    {
     "name": "stdout",
     "output_type": "stream",
     "text": [
      "C = 0.1, score :  0.8008253905866168\n"
     ]
    },
    {
     "name": "stderr",
     "output_type": "stream",
     "text": [
      "c:\\Python38\\lib\\site-packages\\sklearn\\svm\\_base.py:1244: ConvergenceWarning: Liblinear failed to converge, increase the number of iterations.\n",
      "  warnings.warn(\n"
     ]
    },
    {
     "name": "stdout",
     "output_type": "stream",
     "text": [
      "C = 1, score :  0.802790606269038\n"
     ]
    },
    {
     "name": "stderr",
     "output_type": "stream",
     "text": [
      "c:\\Python38\\lib\\site-packages\\sklearn\\svm\\_base.py:1244: ConvergenceWarning: Liblinear failed to converge, increase the number of iterations.\n",
      "  warnings.warn(\n"
     ]
    },
    {
     "name": "stdout",
     "output_type": "stream",
     "text": [
      "C = 5, score :  0.8048540827355802\n",
      "C = 10, score :  0.8064262552815171\n"
     ]
    },
    {
     "name": "stderr",
     "output_type": "stream",
     "text": [
      "c:\\Python38\\lib\\site-packages\\sklearn\\svm\\_base.py:1244: ConvergenceWarning: Liblinear failed to converge, increase the number of iterations.\n",
      "  warnings.warn(\n"
     ]
    }
   ],
   "source": [
    "Cs = [0.001, 0.01,.1, 1, 5, 10]\n",
    "\n",
    "for C in Cs:\n",
    "    LSVC = LinearSVC(C=C, max_iter=10000)\n",
    "    LSVC.fit(X_train, y_train)\n",
    "    y_pred = LSVC.predict(X_test)\n",
    "    score = accuracy(y_test, y_pred)\n",
    "    print(f\"C = {C}, score : \", score)\n"
   ]
  },
  {
   "cell_type": "code",
   "execution_count": 42,
   "id": "d2adba12",
   "metadata": {},
   "outputs": [],
   "source": [
    "Best_LSVCscore=0.8064262552815171"
   ]
  },
  {
   "cell_type": "markdown",
   "id": "29111417",
   "metadata": {},
   "source": [
    "다음 테스트는 RBFKernel 방식을 이용한 SVC 알고리즘을 적용해 보았습니다.\n",
    "\n",
    "RBF 방식에는 2가지 매개변수(C, gamma)를 적용할 수 있습니다.\n",
    "\n",
    "C : 모든 SVM에 적용되는 매개변수로써, Regularization의 기능을 수행합니다. c 값이 크면, decision boundary와의 margin이 작아야 하고, c 값이 작으면 decision boundary와의 margin이 큰 것이 허용됩니다.\n",
    "\n",
    "gamma : 하나의 트레이닝 셋이 얼마나 영향을 미칠지를 결정하는 변수입니다. \n",
    "\n",
    "RBF 커널 방식에서 가장 효과적인 (c, gamma) 값을 찾습니다.\n"
   ]
  },
  {
   "cell_type": "code",
   "execution_count": null,
   "id": "1161f411",
   "metadata": {},
   "outputs": [
    {
     "name": "stdout",
     "output_type": "stream",
     "text": [
      "C is 0.001, score : 0.7926697455045691\n",
      "C is 0.01, score : 0.7758671514198683\n",
      "C is 0.1, score : 0.768399331826668\n",
      "C is 1, score : 0.7614228161540729\n",
      "C is 2, score : 0.7592610789034097\n",
      "C is 3, score : 0.7574923847892306\n",
      "C is 4, score : 0.7568045593003833\n",
      "C is 5, score : 0.7561167338115358\n",
      "C is 10, score : 0.752972388719662\n",
      "C is 15, score : 0.7509089122531197\n",
      "C is 20, score : 0.7497297828436671\n"
     ]
    }
   ],
   "source": [
    "Cs = [0.001, 0.01,.1, 1, 2, 3, 4, 5, 10, 15, 20]\n",
    "scores = []\n",
    "\n",
    "for C in Cs:\n",
    "    SVC_Gaussian = SVC(kernel='rbf', gamma='scale', C=C, class_weight='balanced')\n",
    "    SVC_Gaussian.fit(X_train, y_train)\n",
    "    y_pred = SVC_Gaussian.predict(X_test)\n",
    "    score = accuracy(y_test, y_pred)\n",
    "    scores.append((score, C))\n",
    "    print(f\"C is {C}, score : {score}\")\n"
   ]
  },
  {
   "cell_type": "code",
   "execution_count": 24,
   "id": "338c502d",
   "metadata": {},
   "outputs": [
    {
     "name": "stderr",
     "output_type": "stream",
     "text": [
      "c:\\Python38\\lib\\site-packages\\sklearn\\svm\\_base.py:299: ConvergenceWarning: Solver terminated early (max_iter=10000).  Consider pre-processing your data with StandardScaler or MinMaxScaler.\n",
      "  warnings.warn(\n"
     ]
    },
    {
     "name": "stdout",
     "output_type": "stream",
     "text": [
      "gamma is 0.0001, score : 0.22491893485310013\n"
     ]
    },
    {
     "name": "stderr",
     "output_type": "stream",
     "text": [
      "c:\\Python38\\lib\\site-packages\\sklearn\\svm\\_base.py:299: ConvergenceWarning: Solver terminated early (max_iter=10000).  Consider pre-processing your data with StandardScaler or MinMaxScaler.\n",
      "  warnings.warn(\n"
     ]
    },
    {
     "name": "stdout",
     "output_type": "stream",
     "text": [
      "gamma is 0.001, score : 0.21833546231698928\n"
     ]
    },
    {
     "name": "stderr",
     "output_type": "stream",
     "text": [
      "c:\\Python38\\lib\\site-packages\\sklearn\\svm\\_base.py:299: ConvergenceWarning: Solver terminated early (max_iter=10000).  Consider pre-processing your data with StandardScaler or MinMaxScaler.\n",
      "  warnings.warn(\n"
     ]
    },
    {
     "name": "stdout",
     "output_type": "stream",
     "text": [
      "gamma is 0.01, score : 0.2137172054632996\n"
     ]
    },
    {
     "name": "stderr",
     "output_type": "stream",
     "text": [
      "c:\\Python38\\lib\\site-packages\\sklearn\\svm\\_base.py:299: ConvergenceWarning: Solver terminated early (max_iter=10000).  Consider pre-processing your data with StandardScaler or MinMaxScaler.\n",
      "  warnings.warn(\n"
     ]
    },
    {
     "name": "stdout",
     "output_type": "stream",
     "text": [
      "gamma is 0.1, score : 0.6251351085781665\n"
     ]
    },
    {
     "name": "stderr",
     "output_type": "stream",
     "text": [
      "c:\\Python38\\lib\\site-packages\\sklearn\\svm\\_base.py:299: ConvergenceWarning: Solver terminated early (max_iter=10000).  Consider pre-processing your data with StandardScaler or MinMaxScaler.\n",
      "  warnings.warn(\n"
     ]
    },
    {
     "name": "stdout",
     "output_type": "stream",
     "text": [
      "gamma is 0.5, score : 0.7076741672398545\n"
     ]
    },
    {
     "name": "stderr",
     "output_type": "stream",
     "text": [
      "c:\\Python38\\lib\\site-packages\\sklearn\\svm\\_base.py:299: ConvergenceWarning: Solver terminated early (max_iter=10000).  Consider pre-processing your data with StandardScaler or MinMaxScaler.\n",
      "  warnings.warn(\n"
     ]
    },
    {
     "name": "stdout",
     "output_type": "stream",
     "text": [
      "gamma is 1, score : 0.6841898398349219\n"
     ]
    },
    {
     "name": "stderr",
     "output_type": "stream",
     "text": [
      "c:\\Python38\\lib\\site-packages\\sklearn\\svm\\_base.py:299: ConvergenceWarning: Solver terminated early (max_iter=10000).  Consider pre-processing your data with StandardScaler or MinMaxScaler.\n",
      "  warnings.warn(\n"
     ]
    },
    {
     "name": "stdout",
     "output_type": "stream",
     "text": [
      "gamma is 2, score : 0.7294880613147293\n"
     ]
    },
    {
     "name": "stderr",
     "output_type": "stream",
     "text": [
      "c:\\Python38\\lib\\site-packages\\sklearn\\svm\\_base.py:299: ConvergenceWarning: Solver terminated early (max_iter=10000).  Consider pre-processing your data with StandardScaler or MinMaxScaler.\n",
      "  warnings.warn(\n"
     ]
    },
    {
     "name": "stdout",
     "output_type": "stream",
     "text": [
      "gamma is 5, score : 0.759850643608136\n"
     ]
    },
    {
     "name": "stderr",
     "output_type": "stream",
     "text": [
      "c:\\Python38\\lib\\site-packages\\sklearn\\svm\\_base.py:299: ConvergenceWarning: Solver terminated early (max_iter=10000).  Consider pre-processing your data with StandardScaler or MinMaxScaler.\n",
      "  warnings.warn(\n"
     ]
    },
    {
     "name": "stdout",
     "output_type": "stream",
     "text": [
      "gamma is 10, score : 0.7462906553994301\n"
     ]
    }
   ],
   "source": [
    "gammas = [0.0001, 0.001, 0.01, 0.1, .5, 1, 2, 5, 10]\n",
    "\n",
    "for gamma in gammas:\n",
    "    SVC_Gaussian = SVC(gamma=gamma, max_iter= 10000, C=0.001)\n",
    "    SVC_Gaussian.fit(X_train, y_train)\n",
    "    y_pred = SVC_Gaussian.predict(X_test)\n",
    "    SVCscore = accuracy(y_test, y_pred)\n",
    "    print(f\"gamma is {gamma}, score : {SVCscore}\")\n"
   ]
  },
  {
   "cell_type": "code",
   "execution_count": 25,
   "id": "dc77eafb",
   "metadata": {},
   "outputs": [
    {
     "name": "stderr",
     "output_type": "stream",
     "text": [
      "c:\\Python38\\lib\\site-packages\\sklearn\\svm\\_base.py:299: ConvergenceWarning: Solver terminated early (max_iter=10000).  Consider pre-processing your data with StandardScaler or MinMaxScaler.\n",
      "  warnings.warn(\n"
     ]
    },
    {
     "name": "stdout",
     "output_type": "stream",
     "text": [
      "              precision    recall  f1-score   support\n",
      "\n",
      "           0       0.79      0.95      0.86      7861\n",
      "           1       0.41      0.12      0.19      2316\n",
      "\n",
      "    accuracy                           0.76     10177\n",
      "   macro avg       0.60      0.53      0.52     10177\n",
      "weighted avg       0.70      0.76      0.71     10177\n",
      "\n"
     ]
    }
   ],
   "source": [
    "SVC_Gaussian = SVC(gamma=5, max_iter= 10000, C=0.001)\n",
    "SVC_Gaussian.fit(X_train, y_train)\n",
    "y_pred = SVC_Gaussian.predict(X_test)\n",
    "Best_SVCscore = accuracy(y_test, y_pred)\n",
    "\n",
    "cr = classification_report(y_test, y_pred)\n",
    "print(cr)"
   ]
  },
  {
   "cell_type": "markdown",
   "id": "c581b665",
   "metadata": {},
   "source": [
    "## Linear SVC와 SVC(RBF Kernel)의 결과 비교\n",
    "Linear SVC:\n",
    "C 값에 따른 정확도가 증가하는 추세를 보였으며, C 값이 커질수록 성능 향상되는 경향이 있었습니다.\n",
    "최적의 C 값은 10으로 확인되었고, 이 때의 정확도는 약 0.8064로 측정되었습니다.\n",
    "\n",
    "SVC(RBF Kernel):\n",
    "Gamma 값이 변화함에 따라 정확도가 변동하였으며, Gamma 값이 5일 때 가장 높은 정확도인 약 0.7598을 보였습니다.\n",
    "C 값이 0.001일 때 가장 좋은 성능을 보였지만, 해당 조건에서의 정확도는 약 0.76으로 측정되었습니다.\n",
    "\n",
    "\n",
    "Linear SVC:\n",
    "\n",
    "ConvergenceWarning이 있었으나, C 값이 증가함에 따라 성능이 지속적으로 향상되었습니다. 이는 C 값이 모델의 regularization을 조절하며 성능에 영향을 미치는 것을 보여줍니다.\n",
    "데이터의 선형 분리 가능성을 고려할 때, Linear SVC가 어느 정도 적합한 모델로 보입니다.\n",
    "\n",
    "SVC(RBF Kernel):\n",
    "\n",
    "Gamma 값과 C 값의 변화에 따른 정확도 변화가 불안정하며, 증가하거나 감소하는 경향을 보였습니다. 이는 모델이 데이터를 잘 학습하지 못하거나 Overfitting/Underfitting이 발생했을 가능성이 있습니다.\n"
   ]
  },
  {
   "cell_type": "markdown",
   "id": "e2d97964",
   "metadata": {},
   "source": [
    "# 4. Best DT 찾기"
   ]
  },
  {
   "cell_type": "code",
   "execution_count": 26,
   "id": "7fa955b9",
   "metadata": {},
   "outputs": [
    {
     "name": "stdout",
     "output_type": "stream",
     "text": [
      "0.8102584258622384\n",
      "              precision    recall  f1-score   support\n",
      "\n",
      "           0       0.84      0.94      0.88      7861\n",
      "           1       0.64      0.39      0.48      2316\n",
      "\n",
      "    accuracy                           0.81     10177\n",
      "   macro avg       0.74      0.66      0.68     10177\n",
      "weighted avg       0.79      0.81      0.79     10177\n",
      "\n"
     ]
    }
   ],
   "source": [
    "Best_DTscore = 0\n",
    "# GridSearch\n",
    "dt = DecisionTreeClassifier(random_state=42)\n",
    "dt = dt.fit(X_train, y_train)\n",
    "\n",
    "param_grid = {'max_depth':range(1, dt.tree_.max_depth+1, 2),\n",
    "              'max_features': range(1, len(dt.feature_importances_)+1)}\n",
    "\n",
    "GR = GridSearchCV(DecisionTreeClassifier(random_state=42),\n",
    "                  param_grid=param_grid,\n",
    "                  scoring='accuracy',\n",
    "                  n_jobs=-1)\n",
    "\n",
    "GR = GR.fit(X_train, y_train)\n",
    "\n",
    "y_test_pred_gr = GR.predict(X_test)\n",
    "\n",
    "score = accuracy(y_test, y_test_pred_gr)\n",
    "print(score)\n",
    "\n",
    "cr = classification_report(y_test, y_test_pred_gr)\n",
    "print(cr)"
   ]
  },
  {
   "cell_type": "code",
   "execution_count": 27,
   "id": "67b62b74",
   "metadata": {},
   "outputs": [
    {
     "data": {
      "text/plain": [
       "(63, 5)"
      ]
     },
     "execution_count": 27,
     "metadata": {},
     "output_type": "execute_result"
    }
   ],
   "source": [
    "GR.best_estimator_.tree_.node_count, GR.best_estimator_.tree_.max_depth"
   ]
  },
  {
   "cell_type": "code",
   "execution_count": 28,
   "id": "0bf82b68",
   "metadata": {},
   "outputs": [],
   "source": [
    "Best_DTscore = score"
   ]
  },
  {
   "cell_type": "markdown",
   "id": "5933b6d6",
   "metadata": {},
   "source": [
    " Decision Tree (DT) 모델에서 GridSearch를 통해 최적의 하이퍼파라미터를 탐색한 결과, node_count가 63이고 max_depth가 5인 조합에서 가장 높은 정확도인 0.810258을 얻었습니다. "
   ]
  },
  {
   "cell_type": "markdown",
   "id": "31a557d4",
   "metadata": {},
   "source": [
    "# 최종 Reasoning"
   ]
  },
  {
   "cell_type": "code",
   "execution_count": 44,
   "id": "48e4c2f8",
   "metadata": {},
   "outputs": [
    {
     "data": {
      "text/html": [
       "<div>\n",
       "<style scoped>\n",
       "    .dataframe tbody tr th:only-of-type {\n",
       "        vertical-align: middle;\n",
       "    }\n",
       "\n",
       "    .dataframe tbody tr th {\n",
       "        vertical-align: top;\n",
       "    }\n",
       "\n",
       "    .dataframe thead th {\n",
       "        text-align: right;\n",
       "    }\n",
       "</style>\n",
       "<table border=\"1\" class=\"dataframe\">\n",
       "  <thead>\n",
       "    <tr style=\"text-align: right;\">\n",
       "      <th></th>\n",
       "      <th>KNN</th>\n",
       "      <th>NB</th>\n",
       "      <th>SVM</th>\n",
       "      <th>DT</th>\n",
       "      <th>LSVC</th>\n",
       "    </tr>\n",
       "  </thead>\n",
       "  <tbody>\n",
       "    <tr>\n",
       "      <th>BASELINE</th>\n",
       "      <td>0.780485</td>\n",
       "      <td>0.770070</td>\n",
       "      <td>0.218139</td>\n",
       "      <td>0.721038</td>\n",
       "      <td>NaN</td>\n",
       "    </tr>\n",
       "    <tr>\n",
       "      <th>BEST MODEL</th>\n",
       "      <td>0.805542</td>\n",
       "      <td>0.798762</td>\n",
       "      <td>0.759851</td>\n",
       "      <td>0.810258</td>\n",
       "      <td>0.806426</td>\n",
       "    </tr>\n",
       "  </tbody>\n",
       "</table>\n",
       "</div>"
      ],
      "text/plain": [
       "                 KNN        NB       SVM        DT      LSVC\n",
       "BASELINE    0.780485  0.770070  0.218139  0.721038       NaN\n",
       "BEST MODEL  0.805542  0.798762  0.759851  0.810258  0.806426"
      ]
     },
     "execution_count": 44,
     "metadata": {},
     "output_type": "execute_result"
    }
   ],
   "source": [
    "scores = [[KNN_score, NBscore, SVCscore, DTscore], [Best_KNN_score, Best_NBscore, Best_SVCscore, Best_DTscore,Best_LSVCscore]]\n",
    "col = ['KNN','NB', 'SVM', 'DT','LSVC']\n",
    "ind = ['BASELINE','BEST MODEL']\n",
    "df = pd.DataFrame(scores, columns=col, index=ind)\n",
    "df"
   ]
  },
  {
   "cell_type": "markdown",
   "id": "8c0ef992",
   "metadata": {},
   "source": [
    "최종적으로 내가 선택한 알고리즘은 **DT알고리즘**입니다.\n",
    "현재 데이터셋에서 DT알고리즘이 0.810258의 정확도를 보이며 가장 높은 성능을 보여줬습니다.\n",
    "\n",
    "DT 모델은 주어진 데이터셋에 대해 다른 알고리즘들보다 더 뛰어난 성능을 보였습니다. 이는 데이터셋의 구조나 패턴이 Tree 모델을 잘 수용하고 있다는 것을 알 수 있습니다.\n",
    "\n",
    "DT는 최적의 하이퍼 파라미터 조합인 node_count 63, max_depth 5 조합을 찾고 난 후 무려 0.72의 정확도에서 0.81의 정확도로 상승했습니다. 이는 DT에서 최적의 하이퍼파라미터 조합을 찾는 것이 매우 중요하다는 것을 보여주며, 노드의 총 개수와 트리의 최대 깊이를 제한하여 모델이 일반화되고 과적합을 방지하는 데 도움이 되었습니다.\n",
    "\n",
    "실험한 결과를 바탕으로 종합적인 결론을 내어보겠습니다.\n",
    "\n",
    "NB는 간단하고 빠르게 수행되었습니다.그러나 feature간 의존성을 고려하지 않고 각 feature가 독립적이라고 가정하기 때문에 성능이 제한된 것으로 보입니다.\n",
    "\n",
    "NN은 복잡한 패턴을 학습할 수 있지만, 많은 데이터와 계산량을 필요로하여 시간이 많이 소요되었습니다. 적절한 hyperparameter 설정이 중요했습니다.\n",
    "\n",
    "SVM은 데이터가 많고 차원이 높아 계산비용이 매우 높았습니다. iteration을 높여서 진행한 결과 3일동안 코드를 실행하고 있었고, 결국 iteration을 10000으로 줄여 3시간만에 결과를 도출했습니다. 데이터를 보는 insight를 높여 적절한 scaling을 적용하고, 성능이 좋은 컴퓨터 하드웨어로 iteration을 높인다면 다양한 데이터셋에 대해 높은 성능을 보일 것입니다.\n",
    "\n",
    "LSVC는 선형 결정 경계를 통해 클래스 사이의 최대 마진을 찾으려고 시도합니다. 이번 과제에서 데이터를 분류하기 위한 좋은 성능과 일반화 능력을 제공했습니다. 하지만 데이터가 크고 높은 차원이기 때문에 계산 비용이 증가했습니다. 데이터가 선형적으로 분리되어 좋은 정확도를 보인것으로 보입니다.\n",
    "\n",
    "DT는 해석이 쉽고 이해하기 쉬우며, 가장 높은 성능을 보여줬고, 이 문제에 가장 적합했습니다.\n",
    "\n",
    "이번 과제에서는 DT가 가장 최적의 기법이었지만, 각 알고리즘마다 성능 차이가 유의미하게 크지 않습니다. 최적 기법은 문제에 따라 다르며, 데이터의 크기와 특성 시간을 고려해야합니다.\n"
   ]
  },
  {
   "cell_type": "markdown",
   "id": "69960c73",
   "metadata": {},
   "source": []
  }
 ],
 "metadata": {
  "kernelspec": {
   "display_name": "Python 3 (ipykernel)",
   "language": "python",
   "name": "python3"
  },
  "language_info": {
   "codemirror_mode": {
    "name": "ipython",
    "version": 3
   },
   "file_extension": ".py",
   "mimetype": "text/x-python",
   "name": "python",
   "nbconvert_exporter": "python",
   "pygments_lexer": "ipython3",
   "version": "3.10.2"
  }
 },
 "nbformat": 4,
 "nbformat_minor": 5
}
